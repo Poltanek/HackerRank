{
 "cells": [
  {
   "cell_type": "code",
   "execution_count": 2,
   "metadata": {},
   "outputs": [
    {
     "name": "stdout",
     "output_type": "stream",
     "text": [
      "15\n",
      "Odd\n"
     ]
    }
   ],
   "source": [
    "n = int(input())\n",
    "\n",
    "print(n)\n",
    "\n",
    "if n % 2 != 0: # Odd\n",
    "    print(\"Odd\")\n",
    "elif n % 2 == 0: # Even\n",
    "    if 2 <= n <= 20:\n",
    "        print(\"Not Odd\")\n",
    "    elif 6 <= n <= 20:\n",
    "        print(\"Odd\")\n",
    "    elif n > 20:\n",
    "        print(\"Not even\")"
   ]
  },
  {
   "cell_type": "code",
   "execution_count": 8,
   "metadata": {},
   "outputs": [
    {
     "name": "stdout",
     "output_type": "stream",
     "text": [
      "6\n"
     ]
    }
   ],
   "source": [
    "a = int(input())\n",
    "b = int(input())\n",
    "\n",
    "print(a // b)\n",
    "print(a / b)\n",
    "\n"
   ]
  },
  {
   "cell_type": "markdown",
   "metadata": {},
   "source": [
    "\"For all non-negative integers less than n, print...\": \n",
    "- This tells you that the task involves looping through integers starting from 0 up to n-1.\n",
    "\n",
    "\"Print the square of each number on a separate line\": \n",
    "- This indicates that you need to square each number and output it."
   ]
  },
  {
   "cell_type": "code",
   "execution_count": 9,
   "metadata": {},
   "outputs": [
    {
     "name": "stdout",
     "output_type": "stream",
     "text": [
      "0\n",
      "1\n",
      "4\n",
      "9\n",
      "16\n"
     ]
    }
   ],
   "source": [
    "n = int(input())\n",
    "\n",
    "for i in range(n):\n",
    "    print(i * i)"
   ]
  },
  {
   "cell_type": "code",
   "execution_count": null,
   "metadata": {},
   "outputs": [],
   "source": [
    "def is_leap(year):\n",
    "    if (year % 400 == 0):\n",
    "        return True\n",
    "    elif (year % 100 = 0):\n",
    "        return False\n",
    "    elif (year % 4 == 0):\n",
    "        return True\n",
    "    else: \n",
    "        return False"
   ]
  },
  {
   "cell_type": "code",
   "execution_count": null,
   "metadata": {},
   "outputs": [],
   "source": []
  }
 ],
 "metadata": {
  "kernelspec": {
   "display_name": "Python 3",
   "language": "python",
   "name": "python3"
  },
  "language_info": {
   "codemirror_mode": {
    "name": "ipython",
    "version": 3
   },
   "file_extension": ".py",
   "mimetype": "text/x-python",
   "name": "python",
   "nbconvert_exporter": "python",
   "pygments_lexer": "ipython3",
   "version": "3.12.6"
  }
 },
 "nbformat": 4,
 "nbformat_minor": 2
}
