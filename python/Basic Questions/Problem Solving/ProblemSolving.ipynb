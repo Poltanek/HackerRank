{
 "cells": [
  {
   "cell_type": "code",
   "execution_count": 2,
   "metadata": {},
   "outputs": [
    {
     "name": "stdout",
     "output_type": "stream",
     "text": [
      "15\n",
      "Odd\n"
     ]
    }
   ],
   "source": [
    "n = int(input())\n",
    "\n",
    "print(n)\n",
    "\n",
    "if n % 2 != 0: # Odd\n",
    "    print(\"Odd\")\n",
    "elif n % 2 == 0: # Even\n",
    "    if 2 <= n <= 20:\n",
    "        print(\"Not Odd\")\n",
    "    elif 6 <= n <= 20:\n",
    "        print(\"Odd\")\n",
    "    elif n > 20:\n",
    "        print(\"Not even\")"
   ]
  },
  {
   "cell_type": "code",
   "execution_count": 8,
   "metadata": {},
   "outputs": [
    {
     "name": "stdout",
     "output_type": "stream",
     "text": [
      "6\n"
     ]
    }
   ],
   "source": [
    "a = int(input())\n",
    "b = int(input())\n",
    "\n",
    "print(a // b)\n",
    "print(a / b)\n",
    "\n"
   ]
  },
  {
   "cell_type": "markdown",
   "metadata": {},
   "source": [
    "\"For all non-negative integers less than n, print...\": \n",
    "- This tells you that the task involves looping through integers starting from 0 up to n-1.\n",
    "\n",
    "\"Print the square of each number on a separate line\": \n",
    "- This indicates that you need to square each number and output it."
   ]
  },
  {
   "cell_type": "code",
   "execution_count": 9,
   "metadata": {},
   "outputs": [
    {
     "name": "stdout",
     "output_type": "stream",
     "text": [
      "0\n",
      "1\n",
      "4\n",
      "9\n",
      "16\n"
     ]
    }
   ],
   "source": [
    "n = int(input())\n",
    "\n",
    "for i in range(n):\n",
    "    print(i * i)"
   ]
  },
  {
   "cell_type": "code",
   "execution_count": 3,
   "metadata": {},
   "outputs": [
    {
     "name": "stdout",
     "output_type": "stream",
     "text": [
      "True\n"
     ]
    }
   ],
   "source": [
    "def is_leap(year):\n",
    "    if year % 400 == 0: # Check if the year is disvisble by 400\n",
    "        return True\n",
    "    elif year % 100 == 0: # Check if the year is divisible by 100 but not 400\n",
    "        return False\n",
    "    elif year % 4 == 0: # Check if the year is divisible by 4 but not 100\n",
    "        return True\n",
    "    else:\n",
    "        return False\n",
    "    \n",
    "\n",
    "year = int(input())\n",
    "print(is_leap(year))"
   ]
  },
  {
   "cell_type": "markdown",
   "metadata": {},
   "source": [
    "Consecutive Numbers: The phrase “the string 123” or “consecutive values” in the prompt implies that you are expected to print multiple numbers without manually writing each one. \n",
    "\n",
    "Iterating through numbers with a loop is the most effective way to handle this task."
   ]
  },
  {
   "cell_type": "code",
   "execution_count": 3,
   "metadata": {},
   "outputs": [
    {
     "name": "stdout",
     "output_type": "stream",
     "text": [
      "123456789"
     ]
    }
   ],
   "source": [
    "n = int(input())\n",
    "\n",
    "for i in range (1, n + 1):\n",
    "    print(i, end=\"\")"
   ]
  },
  {
   "cell_type": "code",
   "execution_count": 8,
   "metadata": {},
   "outputs": [
    {
     "name": "stdout",
     "output_type": "stream",
     "text": [
      "2\n",
      "6\n",
      "10\n"
     ]
    }
   ],
   "source": [
    "n = int(input())\n",
    "\n",
    "for i in range (2, n+1, 4):\n",
    "    print(i)"
   ]
  },
  {
   "cell_type": "markdown",
   "metadata": {},
   "source": [
    "C++ Comparison"
   ]
  },
  {
   "cell_type": "code",
   "execution_count": null,
   "metadata": {},
   "outputs": [],
   "source": [
    "for (int i = 2; i < 10; i += 2) {\n",
    "    std::cout << i << \" \";\n",
    "}\n"
   ]
  },
  {
   "cell_type": "markdown",
   "metadata": {},
   "source": [
    "To solve a problem of determining if given strings are vali mobile numbers, we can use Python's re module for regular expressions."
   ]
  },
  {
   "cell_type": "markdown",
   "metadata": {},
   "source": [
    "Approach\n",
    "\n",
    "A valid mobile number is a ten-digit number that starts with 7, 8 or 9\n",
    "\n",
    "the regular expression pattern is ```^[789]\\d{9}$```\n",
    "- ^ asserts the start of the string\n",
    "- [789] ensures the first digit is 7, 8 or 9\n",
    "- \\d{9} matches exactly 9 digits following the first digit\n",
    "- $ asserts the end of the string"
   ]
  },
  {
   "cell_type": "code",
   "execution_count": null,
   "metadata": {},
   "outputs": [
    {
     "name": "stdout",
     "output_type": "stream",
     "text": [
      "NO\n",
      "NO\n",
      "NO\n",
      "NO\n",
      "NO\n",
      "NO\n",
      "NO\n"
     ]
    },
    {
     "ename": "",
     "evalue": "",
     "output_type": "error",
     "traceback": [
      "\u001b[1;31mThe Kernel crashed while executing code in the current cell or a previous cell. \n",
      "\u001b[1;31mPlease review the code in the cell(s) to identify a possible cause of the failure. \n",
      "\u001b[1;31mClick <a href='https://aka.ms/vscodeJupyterKernelCrash'>here</a> for more info. \n",
      "\u001b[1;31mView Jupyter <a href='command:jupyter.viewOutput'>log</a> for further details."
     ]
    }
   ],
   "source": [
    "import re\n",
    "\n",
    "def validate_mobile_numbers():\n",
    "    n = int(input()) # Read the number of inputs\n",
    "    results = []\n",
    "    pattern = re.compile(r\"^[789]\\d{9}$\") # Compile the regular expression pattern\n",
    "\n",
    "    for _ in range(n):\n",
    "        mobile_num = input().strip() # Strip of any extra whitespace\n",
    "        if pattern.match(mobile_num): # Match the input against the pattern \n",
    "            results.append(\"YES\")\n",
    "        else:\n",
    "            results.append(\"NO\")\n",
    "\n",
    "    print(\"\\n\".join(results)) # Print all results line by line\n",
    "\n",
    "validate_mobile_numbers()\n",
    "\n"
   ]
  }
 ],
 "metadata": {
  "kernelspec": {
   "display_name": "Python 3",
   "language": "python",
   "name": "python3"
  },
  "language_info": {
   "codemirror_mode": {
    "name": "ipython",
    "version": 3
   },
   "file_extension": ".py",
   "mimetype": "text/x-python",
   "name": "python",
   "nbconvert_exporter": "python",
   "pygments_lexer": "ipython3",
   "version": "3.12.6"
  }
 },
 "nbformat": 4,
 "nbformat_minor": 2
}
